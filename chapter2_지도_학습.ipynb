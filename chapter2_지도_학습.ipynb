{
  "nbformat": 4,
  "nbformat_minor": 0,
  "metadata": {
    "colab": {
      "name": "chapter2 지도 학습",
      "provenance": [],
      "collapsed_sections": [],
      "include_colab_link": true
    },
    "kernelspec": {
      "name": "python3",
      "display_name": "Python 3"
    },
    "language_info": {
      "name": "python"
    }
  },
  "cells": [
    {
      "cell_type": "markdown",
      "metadata": {
        "id": "view-in-github",
        "colab_type": "text"
      },
      "source": [
        "<a href=\"https://colab.research.google.com/github/SWiwoo/CornStudy/blob/study/chapter2_%EC%A7%80%EB%8F%84_%ED%95%99%EC%8A%B5.ipynb\" target=\"_parent\"><img src=\"https://colab.research.google.com/assets/colab-badge.svg\" alt=\"Open In Colab\"/></a>"
      ]
    },
    {
      "cell_type": "markdown",
      "source": [
        "지도 학습은 입력과 출력 샘플 데이터가 있고, 주어진 입력으로부터 출력을 예측하고자 할 때 사용하는 것\n",
        "\n",
        "이런 입력/출력 샘플 데이터, 즉 훈련 세트로부터 머신러닝 모델을 만듦\n",
        "\n",
        "목표 : 이전에 본 적 없는 새로운 데이터에 대해 정확한 출력을 예측\n",
        "\n",
        "장점 : 훈련 데이터를 만드는 데 사람이 개입해 노력해야 하지만 자동화하면 힘들고 어려운 작업의 속도 향상"
      ],
      "metadata": {
        "id": "EKxmnKOPfVhM"
      }
    },
    {
      "cell_type": "markdown",
      "source": [
        "# 2.1 분류와 회귀\n",
        "\n",
        "- 지도 학습에는 분류와 회귀가 있음\n",
        "-> 분류 : 미리 정의된, 가능성 있는 여러 클래스 레이블 중 하나를 예측 \n",
        "     ex) 이진 분류(Y/N, P/N), 다중 분류(붓꽃 분류)\n",
        "-> 회귀 : 연속적인 숫자, 부동소수점수(실수)를 예측\n",
        "     ex) 교육 수준, 나이 바탕으로 연간 소득 예측, 수확량 예측    "
      ],
      "metadata": {
        "id": "GrZKJEF_ffzw"
      }
    },
    {
      "cell_type": "markdown",
      "source": [
        "# 2.2 일반화, 과대적합, 과소적합\n",
        "\n",
        "- 지도 학습에서는 훈련 데이터로 학습한 모델이 훈련 데이터와 특성이 같다면 처음 보는 새로운 데이터가 주어져도 정확히 예측할 거라 기대함\n",
        "- 모델이 처음 보는 데이터에 대해 정확하게 예측할 수 있으면 이를 훈련 세트에서 테스트 세트로 일반화 되었다고 함\n",
        "- 너무 복잡한 모델을 만든다면 훈련세트에만 정확한 모델이 됨 = 과대적합\n",
        "- 간단할 수록 일반화 되지만 너무 간단하면 = 과소적합\n",
        "    "
      ],
      "metadata": {
        "id": "a2Fk9oN2glyM"
      }
    },
    {
      "cell_type": "markdown",
      "source": [
        "## 2.2.1 모델 복잡도와 데이터셋 크기의 관계\n",
        "\n",
        "    모델의 복잡도는 훈련 데이터셋에 담긴 입력 데이터의 다양성과 관계\n",
        "    데이터셋에 다양한 데이터 포인트가 많을수록 과대적합 없이 더 복잡한 모델을 만들 수 있음\n",
        "    같은 데이터 중복, 비슷한 데이터 모으는 것은 x\n",
        "    데이터양의 힘을 과소평가 하지 말 것!"
      ],
      "metadata": {
        "id": "jFNdFMEwhiaT"
      }
    },
    {
      "cell_type": "markdown",
      "source": [
        "# 2.3 지도 학습 알고리즘\n",
        "\n",
        "- 모델의 복잡도, 알고리즘 살펴보기\n",
        "- 모델의 장단점 평가, 적절한 데이터 살펴보기\n",
        "- 매개변수와 옵션 설명\n",
        "- 분류와 회귀 모델을 모두 가지고 있는 알고리즘 \n",
        "     "
      ],
      "metadata": {
        "id": "5aNrOxYKjOpi"
      }
    },
    {
      "cell_type": "markdown",
      "source": [
        "## 2.3.1\n",
        "\n",
        "    두 개의 특성을 가진 forge 데이터셋은 인위적으로 만든 이진 분류 데이터셋\n",
        "    다음 코드는 이 데이터셋의 모든 데이터 포인트를 산점도로 그림"
      ],
      "metadata": {
        "id": "KEZInMyyjvFy"
      }
    },
    {
      "cell_type": "code",
      "source": [
        "pip install mglearn"
      ],
      "metadata": {
        "colab": {
          "base_uri": "https://localhost:8080/"
        },
        "id": "jvVxf-pHk5p6",
        "outputId": "6381a039-0a49-45ec-c61d-c3e573e2570a"
      },
      "execution_count": 98,
      "outputs": [
        {
          "output_type": "stream",
          "name": "stdout",
          "text": [
            "Requirement already satisfied: mglearn in /usr/local/lib/python3.7/dist-packages (0.1.9)\n",
            "Requirement already satisfied: joblib in /usr/local/lib/python3.7/dist-packages (from mglearn) (1.1.0)\n",
            "Requirement already satisfied: matplotlib in /usr/local/lib/python3.7/dist-packages (from mglearn) (3.2.2)\n",
            "Requirement already satisfied: pandas in /usr/local/lib/python3.7/dist-packages (from mglearn) (1.3.5)\n",
            "Requirement already satisfied: scikit-learn in /usr/local/lib/python3.7/dist-packages (from mglearn) (1.0.2)\n",
            "Requirement already satisfied: pillow in /usr/local/lib/python3.7/dist-packages (from mglearn) (7.1.2)\n",
            "Requirement already satisfied: cycler in /usr/local/lib/python3.7/dist-packages (from mglearn) (0.11.0)\n",
            "Requirement already satisfied: imageio in /usr/local/lib/python3.7/dist-packages (from mglearn) (2.4.1)\n",
            "Requirement already satisfied: numpy in /usr/local/lib/python3.7/dist-packages (from mglearn) (1.21.5)\n",
            "Requirement already satisfied: python-dateutil>=2.1 in /usr/local/lib/python3.7/dist-packages (from matplotlib->mglearn) (2.8.2)\n",
            "Requirement already satisfied: kiwisolver>=1.0.1 in /usr/local/lib/python3.7/dist-packages (from matplotlib->mglearn) (1.3.2)\n",
            "Requirement already satisfied: pyparsing!=2.0.4,!=2.1.2,!=2.1.6,>=2.0.1 in /usr/local/lib/python3.7/dist-packages (from matplotlib->mglearn) (3.0.7)\n",
            "Requirement already satisfied: six>=1.5 in /usr/local/lib/python3.7/dist-packages (from python-dateutil>=2.1->matplotlib->mglearn) (1.15.0)\n",
            "Requirement already satisfied: pytz>=2017.3 in /usr/local/lib/python3.7/dist-packages (from pandas->mglearn) (2018.9)\n",
            "Requirement already satisfied: scipy>=1.1.0 in /usr/local/lib/python3.7/dist-packages (from scikit-learn->mglearn) (1.4.1)\n",
            "Requirement already satisfied: threadpoolctl>=2.0.0 in /usr/local/lib/python3.7/dist-packages (from scikit-learn->mglearn) (3.1.0)\n"
          ]
        }
      ]
    },
    {
      "cell_type": "code",
      "source": [
        "import mglearn                                        # 앞으로 이 책에서 임포트되었다고 가정할 라이브러리들\n",
        "import numpy as np\n",
        "%matplotlib inline\n",
        "import matplotlib.pyplot as plt\n",
        "import pandas as pd\n",
        "from IPython.display import display"
      ],
      "metadata": {
        "id": "pa6w4pxOlC-C"
      },
      "execution_count": 99,
      "outputs": []
    },
    {
      "cell_type": "code",
      "source": [
        "import matplotlib\n",
        "\n",
        "matplotlib.rcParams['font.family'] ='Malgun Gothic'\n",
        "\n",
        "matplotlib.rcParams['axes.unicode_minus'] =False"
      ],
      "metadata": {
        "id": "gd5FBmP5xZOi"
      },
      "execution_count": 100,
      "outputs": []
    },
    {
      "cell_type": "code",
      "source": [
        "# 데이터셋을 만듭니다\n",
        "X,y =mglearn.datasets.make_forge()\n",
        "\n",
        "# 산점도를 그립니다\n",
        "mglearn.discrete_scatter(X[:,0], X[:,-1], y)\n",
        "plt.legend(['클래스 0', '클래스 1'], loc=4)\n",
        "plt.xlabel(\"First habitat\")\n",
        "plt.ylabel(\"Second habitat\")\n",
        "print(\"X.shape:\", X.shape)"
      ],
      "metadata": {
        "colab": {
          "base_uri": "https://localhost:8080/",
          "height": 550
        },
        "id": "udEe_6pCjJx5",
        "outputId": "df823318-cdf6-4e15-cc57-8afbc90bd89e"
      },
      "execution_count": 101,
      "outputs": [
        {
          "output_type": "stream",
          "name": "stderr",
          "text": [
            "/usr/local/lib/python3.7/dist-packages/sklearn/utils/deprecation.py:87: FutureWarning: Function make_blobs is deprecated; Please import make_blobs directly from scikit-learn\n",
            "  warnings.warn(msg, category=FutureWarning)\n",
            "/usr/local/lib/python3.7/dist-packages/matplotlib/backends/backend_agg.py:214: RuntimeWarning: Glyph 53364 missing from current font.\n",
            "  font.set_text(s, 0.0, flags=flags)\n",
            "/usr/local/lib/python3.7/dist-packages/matplotlib/backends/backend_agg.py:214: RuntimeWarning: Glyph 47000 missing from current font.\n",
            "  font.set_text(s, 0.0, flags=flags)\n",
            "/usr/local/lib/python3.7/dist-packages/matplotlib/backends/backend_agg.py:214: RuntimeWarning: Glyph 49828 missing from current font.\n",
            "  font.set_text(s, 0.0, flags=flags)\n",
            "/usr/local/lib/python3.7/dist-packages/matplotlib/backends/backend_agg.py:183: RuntimeWarning: Glyph 53364 missing from current font.\n",
            "  font.set_text(s, 0, flags=flags)\n",
            "/usr/local/lib/python3.7/dist-packages/matplotlib/backends/backend_agg.py:183: RuntimeWarning: Glyph 47000 missing from current font.\n",
            "  font.set_text(s, 0, flags=flags)\n",
            "/usr/local/lib/python3.7/dist-packages/matplotlib/backends/backend_agg.py:183: RuntimeWarning: Glyph 49828 missing from current font.\n",
            "  font.set_text(s, 0, flags=flags)\n"
          ]
        },
        {
          "output_type": "stream",
          "name": "stdout",
          "text": [
            "X.shape: (26, 2)\n"
          ]
        },
        {
          "output_type": "display_data",
          "data": {
            "text/plain": [
              "<Figure size 432x288 with 1 Axes>"
            ],
            "image/png": "[encoded data removed]"
          },
          "metadata": {
            "needs_background": "light"
          }
        }
      ]
    },
    {
      "cell_type": "code",
      "source": [
        "# 회귀 알고리즘 설명을 위해 wave 데이터셋 사용\n",
        "# wave 데이터셋은 입력 특성 하나와 모델링할 타깃 변수를 가짐\n",
        "\n",
        "X,y=mglearn.datasets.make_wave(n_samples=40)\n",
        "plt.plot(X,y,'o')\n",
        "plt.ylim(-3,3)\n",
        "plt.xlabel('habitat')\n",
        "plt.ylabel('target')"
      ],
      "metadata": {
        "colab": {
          "base_uri": "https://localhost:8080/",
          "height": 301
        },
        "id": "Y5vg_AP2lBhg",
        "outputId": "e6e9715e-4924-4cf2-cd4a-0d1eae3b2666"
      },
      "execution_count": 102,
      "outputs": [
        {
          "output_type": "execute_result",
          "data": {
            "text/plain": [
              "Text(0, 0.5, 'target')"
            ]
          },
          "metadata": {},
          "execution_count": 102
        },
        {
          "output_type": "display_data",
          "data": {
            "text/plain": [
              "<Figure size 432x288 with 1 Axes>"
            ],
            "image/png": "[encoded data removed]"
          },
          "metadata": {
            "needs_background": "light"
          }
        }
      ]
    },
    {
      "cell_type": "code",
      "source": [
        "# 이번엔 위스콘신 유방함 데이터셋 사용해 보겠음\n",
        "\n",
        "from sklearn.datasets import load_breast_cancer\n",
        "cancer=load_breast_cancer()\n",
        "print('cancer.keys():\\n', cancer.keys())"
      ],
      "metadata": {
        "colab": {
          "base_uri": "https://localhost:8080/"
        },
        "id": "yc5Pz8tsJtFW",
        "outputId": "3f50290d-bdae-4240-8cdb-e0b491447076"
      },
      "execution_count": 103,
      "outputs": [
        {
          "output_type": "stream",
          "name": "stdout",
          "text": [
            "cancer.keys():\n",
            " dict_keys(['data', 'target', 'frame', 'target_names', 'DESCR', 'feature_names', 'filename', 'data_module'])\n"
          ]
        }
      ]
    },
    {
      "cell_type": "code",
      "source": [
        "print(\"유방암 데이터의 형태:\", cancer.data.shape)"
      ],
      "metadata": {
        "id": "LUY30UWHJtH4",
        "colab": {
          "base_uri": "https://localhost:8080/"
        },
        "outputId": "6d5b8b04-4807-4112-cb2b-f9311e70aab1"
      },
      "execution_count": 104,
      "outputs": [
        {
          "output_type": "stream",
          "name": "stdout",
          "text": [
            "유방암 데이터의 형태: (569, 30)\n"
          ]
        }
      ]
    },
    {
      "cell_type": "code",
      "source": [
        "print(\"클래스별 샘플 개수:\\n\", {n: v for n, v in zip(cancer.target_names, np.bincount(cancer.target))})     #악성이 212, 양성이 357"
      ],
      "metadata": {
        "id": "Db6zIzyZhL1l",
        "colab": {
          "base_uri": "https://localhost:8080/"
        },
        "outputId": "17e6a591-9386-489a-8b0e-683925bbdb61"
      },
      "execution_count": 105,
      "outputs": [
        {
          "output_type": "stream",
          "name": "stdout",
          "text": [
            "클래스별 샘플 개수:\n",
            " {'malignant': 212, 'benign': 357}\n"
          ]
        }
      ]
    },
    {
      "cell_type": "code",
      "source": [
        "# feature_names 속성을 확인하면 각 특성의 의미를 알 수 있음\n",
        "\n",
        "print(\"특성 이름:\\n\", cancer.feature_names)"
      ],
      "metadata": {
        "id": "LD0OcafMhSmj",
        "colab": {
          "base_uri": "https://localhost:8080/"
        },
        "outputId": "73d68f08-6dc5-44aa-d18b-4fd2c03e2cbe"
      },
      "execution_count": 106,
      "outputs": [
        {
          "output_type": "stream",
          "name": "stdout",
          "text": [
            "특성 이름:\n",
            " ['mean radius' 'mean texture' 'mean perimeter' 'mean area'\n",
            " 'mean smoothness' 'mean compactness' 'mean concavity'\n",
            " 'mean concave points' 'mean symmetry' 'mean fractal dimension'\n",
            " 'radius error' 'texture error' 'perimeter error' 'area error'\n",
            " 'smoothness error' 'compactness error' 'concavity error'\n",
            " 'concave points error' 'symmetry error' 'fractal dimension error'\n",
            " 'worst radius' 'worst texture' 'worst perimeter' 'worst area'\n",
            " 'worst smoothness' 'worst compactness' 'worst concavity'\n",
            " 'worst concave points' 'worst symmetry' 'worst fractal dimension']\n"
          ]
        }
      ]
    },
    {
      "cell_type": "code",
      "source": [
        "# 회귀 분석용 실제 데이터셋으로는 보스톤 주택가격 사용\n",
        "# 범죄율, 찰스강 인접도, 고속도로 접근성 등의 정보를 이용해 1970년대 보스톤 주택 평균 가격을 예측\n",
        "\n",
        "from sklearn.datasets import load_boston\n",
        "boston=load_boston()\n",
        "print(\"데이터의 형태\", boston.data.shape)\n"
      ],
      "metadata": {
        "id": "nEoPq-NKhUgk",
        "colab": {
          "base_uri": "https://localhost:8080/"
        },
        "outputId": "f964f361-4612-4549-fc9b-4f07ff53617d"
      },
      "execution_count": 107,
      "outputs": [
        {
          "output_type": "stream",
          "name": "stdout",
          "text": [
            "데이터의 형태 (506, 13)\n"
          ]
        },
        {
          "output_type": "stream",
          "name": "stderr",
          "text": [
            "/usr/local/lib/python3.7/dist-packages/sklearn/utils/deprecation.py:87: FutureWarning: Function load_boston is deprecated; `load_boston` is deprecated in 1.0 and will be removed in 1.2.\n",
            "\n",
            "    The Boston housing prices dataset has an ethical problem. You can refer to\n",
            "    the documentation of this function for further details.\n",
            "\n",
            "    The scikit-learn maintainers therefore strongly discourage the use of this\n",
            "    dataset unless the purpose of the code is to study and educate about\n",
            "    ethical issues in data science and machine learning.\n",
            "\n",
            "    In this special case, you can fetch the dataset from the original\n",
            "    source::\n",
            "\n",
            "        import pandas as pd\n",
            "        import numpy as np\n",
            "\n",
            "\n",
            "        data_url = \"http://lib.stat.cmu.edu/datasets/boston\"\n",
            "        raw_df = pd.read_csv(data_url, sep=\"\\s+\", skiprows=22, header=None)\n",
            "        data = np.hstack([raw_df.values[::2, :], raw_df.values[1::2, :2]])\n",
            "        target = raw_df.values[1::2, 2]\n",
            "\n",
            "    Alternative datasets include the California housing dataset (i.e.\n",
            "    :func:`~sklearn.datasets.fetch_california_housing`) and the Ames housing\n",
            "    dataset. You can load the datasets as follows::\n",
            "\n",
            "        from sklearn.datasets import fetch_california_housing\n",
            "        housing = fetch_california_housing()\n",
            "\n",
            "    for the California housing dataset and::\n",
            "\n",
            "        from sklearn.datasets import fetch_openml\n",
            "        housing = fetch_openml(name=\"house_prices\", as_frame=True)\n",
            "\n",
            "    for the Ames housing dataset.\n",
            "    \n",
            "  warnings.warn(msg, category=FutureWarning)\n"
          ]
        }
      ]
    },
    {
      "cell_type": "code",
      "source": [
        "# 13개의 입력 특성뿐 아니라 특성끼리 곱하여(상호작용) 의도적으로 확장\n",
        "# 범죄율 * 고속도로 접근성 도 특성으로 생각하는 것 -> \"특성 공학(feature engineering)\""
      ],
      "metadata": {
        "id": "LarT1mLChUj-"
      },
      "execution_count": 108,
      "outputs": []
    },
    {
      "cell_type": "code",
      "source": [
        "X,y=mglearn.datasets.load_extended_boston()\n",
        "print('X.shape:', X.shape)      # 13개의 원래 특성에서 13개에서 2개씩 곱한 91개의 특성을 더해 총 104개"
      ],
      "metadata": {
        "id": "kZLQNd36hUmw",
        "colab": {
          "base_uri": "https://localhost:8080/"
        },
        "outputId": "3cecaddd-e1fc-46d3-e8e9-6a64a79b5d44"
      },
      "execution_count": 109,
      "outputs": [
        {
          "output_type": "stream",
          "name": "stdout",
          "text": [
            "X.shape: (506, 104)\n"
          ]
        },
        {
          "output_type": "stream",
          "name": "stderr",
          "text": [
            "/usr/local/lib/python3.7/dist-packages/sklearn/utils/deprecation.py:87: FutureWarning: Function load_boston is deprecated; `load_boston` is deprecated in 1.0 and will be removed in 1.2.\n",
            "\n",
            "    The Boston housing prices dataset has an ethical problem. You can refer to\n",
            "    the documentation of this function for further details.\n",
            "\n",
            "    The scikit-learn maintainers therefore strongly discourage the use of this\n",
            "    dataset unless the purpose of the code is to study and educate about\n",
            "    ethical issues in data science and machine learning.\n",
            "\n",
            "    In this special case, you can fetch the dataset from the original\n",
            "    source::\n",
            "\n",
            "        import pandas as pd\n",
            "        import numpy as np\n",
            "\n",
            "\n",
            "        data_url = \"http://lib.stat.cmu.edu/datasets/boston\"\n",
            "        raw_df = pd.read_csv(data_url, sep=\"\\s+\", skiprows=22, header=None)\n",
            "        data = np.hstack([raw_df.values[::2, :], raw_df.values[1::2, :2]])\n",
            "        target = raw_df.values[1::2, 2]\n",
            "\n",
            "    Alternative datasets include the California housing dataset (i.e.\n",
            "    :func:`~sklearn.datasets.fetch_california_housing`) and the Ames housing\n",
            "    dataset. You can load the datasets as follows::\n",
            "\n",
            "        from sklearn.datasets import fetch_california_housing\n",
            "        housing = fetch_california_housing()\n",
            "\n",
            "    for the California housing dataset and::\n",
            "\n",
            "        from sklearn.datasets import fetch_openml\n",
            "        housing = fetch_openml(name=\"house_prices\", as_frame=True)\n",
            "\n",
            "    for the Ames housing dataset.\n",
            "    \n",
            "  warnings.warn(msg, category=FutureWarning)\n"
          ]
        }
      ]
    },
    {
      "cell_type": "markdown",
      "source": [
        "## k-최근접 이웃\n",
        "\n",
        "- k-NN 알고리즘은 훈련 데이터셋을 그냥 저장하는 것이 모델을 만드는 과정의 전부\n",
        "- 새로운 데이터 포인트에 대해 예측할 땐 알고리즘이 훈련 데이터셋에서 가장 가까운 데이터 포인트, 즉 최근접 이웃을 찾음\n"
      ],
      "metadata": {
        "id": "kUUCBECF5rdb"
      }
    },
    {
      "cell_type": "markdown",
      "source": [
        "### k-최근접 이웃 분류\n"
      ],
      "metadata": {
        "id": "ld3VGeKU5-Ur"
      }
    },
    {
      "cell_type": "code",
      "source": [
        "mglearn.plots.plot_knn_classification(n_neighbors=1)\n",
        "\n",
        "# \"데이터 포인트\" 3개를 추가(별 모양)\n",
        "# 추가한 각 데이터 포인트에서 가장 가까운 훈련 데이터 포인트(training class)를 연결\n",
        "# 1-최근접 이웃 알고리즘의 예측은 이 데이터 포인트의 레이블이 됨(같은 색으로 연결함)"
      ],
      "metadata": {
        "colab": {
          "base_uri": "https://localhost:8080/",
          "height": 301
        },
        "id": "wooYYoy7iKn2",
        "outputId": "1f0b3643-e3d6-46f4-b209-8e33ca8a5042"
      },
      "execution_count": 110,
      "outputs": [
        {
          "output_type": "stream",
          "name": "stderr",
          "text": [
            "/usr/local/lib/python3.7/dist-packages/sklearn/utils/deprecation.py:87: FutureWarning: Function make_blobs is deprecated; Please import make_blobs directly from scikit-learn\n",
            "  warnings.warn(msg, category=FutureWarning)\n"
          ]
        },
        {
          "output_type": "display_data",
          "data": {
            "text/plain": [
              "<Figure size 432x288 with 1 Axes>"
            ],
            "image/png": "[encoded data removed]"
          },
          "metadata": {
            "needs_background": "light"
          }
        }
      ]
    },
    {
      "cell_type": "markdown",
      "source": [
        "    -가장 가까운 이웃 하나가 아니라 임의의 k 개를 선택할 수도 있음\n",
        "    -이것을 k-최근접 이웃 알고리즘이라 함\n",
        "    -둘 이상의 이웃을 선택할 때는 레이블을 정하기 위해 투표를 함\n",
        "    -테스트 포인트 하나에 대해 클래스 0에 속한 이웃이 몇 개인지, 그리고 클래스 1에 속한 이웃이 몇 개인지를 셈\n",
        "    -이웃이 더 많은 클래스를 레이블로 지정"
      ],
      "metadata": {
        "id": "n6wV1F1BA0oq"
      }
    },
    {
      "cell_type": "code",
      "source": [
        "# 다음은 세 개의 최근접 이웃을 사용하는 예\n",
        "\n",
        "mglearn.plots.plot_knn_classification(n_neighbors=3)\n",
        "\n",
        "## 세 데이터 포인트 중 왼쪽 위의 것은 이웃을 하나만 사용했을 때와 예측이 달라진 것을 알 수 있음\n",
        "## 클래스가 다수인 데이셋에도 같은 방법 적용 가능"
      ],
      "metadata": {
        "id": "a2IX20cJKIwQ",
        "colab": {
          "base_uri": "https://localhost:8080/",
          "height": 301
        },
        "outputId": "191effb7-5c23-40a7-9c29-e81222ae732f"
      },
      "execution_count": 111,
      "outputs": [
        {
          "output_type": "stream",
          "name": "stderr",
          "text": [
            "/usr/local/lib/python3.7/dist-packages/sklearn/utils/deprecation.py:87: FutureWarning: Function make_blobs is deprecated; Please import make_blobs directly from scikit-learn\n",
            "  warnings.warn(msg, category=FutureWarning)\n"
          ]
        },
        {
          "output_type": "display_data",
          "data": {
            "text/plain": [
              "<Figure size 432x288 with 1 Axes>"
            ],
            "image/png": "[encoded data removed]"
          },
          "metadata": {
            "needs_background": "light"
          }
        }
      ]
    },
    {
      "cell_type": "markdown",
      "source": [
        "▼scikit-learn을 사용해서 k-최근접 이웃 알고리즘을 어떻게 적용하는지 살펴보기"
      ],
      "metadata": {
        "id": "i-dRWTC-Az2-"
      }
    },
    {
      "cell_type": "code",
      "source": [
        "# 일반화 성능을 평가할 수 있도록 데이터를 훈련 세트와 테스트 세트로 나눔\n",
        "\n",
        "from sklearn.model_selection import train_test_split\n",
        "X,y = mglearn.datasets.make_forge()\n",
        "\n",
        "X_train, X_test, y_train, y_test = train_test_split(X,y,random_state=0)"
      ],
      "metadata": {
        "id": "VLUDHqgjKIyk",
        "colab": {
          "base_uri": "https://localhost:8080/"
        },
        "outputId": "ff930689-d92c-4a82-f402-20ae76352aa4"
      },
      "execution_count": 112,
      "outputs": [
        {
          "output_type": "stream",
          "name": "stderr",
          "text": [
            "/usr/local/lib/python3.7/dist-packages/sklearn/utils/deprecation.py:87: FutureWarning: Function make_blobs is deprecated; Please import make_blobs directly from scikit-learn\n",
            "  warnings.warn(msg, category=FutureWarning)\n"
          ]
        }
      ]
    },
    {
      "cell_type": "code",
      "source": [
        "# KNeighborsClassifier를 임포트 하고 객체를 만듦\n",
        "# 이웃의 수(n_neighbors) 같은 매개변수들을 지정\n",
        "# 여기서는 이웃의 수를 3으로 지정\n",
        "\n",
        "from sklearn.neighbors import KNeighborsClassifier\n",
        "clf=KNeighborsClassifier(n_neighbors=3)"
      ],
      "metadata": {
        "id": "YgBMFr4KKI1I"
      },
      "execution_count": 113,
      "outputs": []
    },
    {
      "cell_type": "code",
      "source": [
        "# 훈련 세트를 사용하여 분류 모델을 학습시킴\n",
        "# KNeighborsClassifier에서 학습이란, 예측할 때 이웃을 찾을 수 있도록 데이터를 저장하는 것\n",
        "\n",
        "clf.fit(X_train, y_train)"
      ],
      "metadata": {
        "id": "sKfjz6mEKI4L",
        "colab": {
          "base_uri": "https://localhost:8080/"
        },
        "outputId": "01595c06-cb37-46b9-a9e1-544c379ea52c"
      },
      "execution_count": 114,
      "outputs": [
        {
          "output_type": "execute_result",
          "data": {
            "text/plain": [
              "KNeighborsClassifier(n_neighbors=3)"
            ]
          },
          "metadata": {},
          "execution_count": 114
        }
      ]
    },
    {
      "cell_type": "code",
      "source": [
        "# 테스트 데이터에 대해 predict 메서드를 호출해서 예측\n",
        "\n",
        "print(\"테스트 세트 예측:\", clf.predict(X_test))"
      ],
      "metadata": {
        "id": "9ZnplmM8kGOM",
        "colab": {
          "base_uri": "https://localhost:8080/"
        },
        "outputId": "6d7439dd-e043-4b32-abdf-ad429fc87650"
      },
      "execution_count": 115,
      "outputs": [
        {
          "output_type": "stream",
          "name": "stdout",
          "text": [
            "테스트 세트 예측: [1 0 1 0 1 0 0]\n"
          ]
        }
      ]
    },
    {
      "cell_type": "code",
      "source": [
        "# 모델이 얼마나 잘 일반화되었는지 평가하기 위해 score 메서드에 테스트 데이터와 테스트 레이블을 넣어 호출\n",
        "\n",
        "print(\"테스트 세트 정확도:{:.2f}\". format(clf.score(X_test, y_test)))\n",
        "\n",
        "## 모델이 테스트 데이터셋에 있는 샘플 중 86%를 정확히 예측"
      ],
      "metadata": {
        "id": "hW3QydHVKI6A",
        "colab": {
          "base_uri": "https://localhost:8080/"
        },
        "outputId": "8811408b-140a-483c-a5c5-25567f4fb91a"
      },
      "execution_count": 116,
      "outputs": [
        {
          "output_type": "stream",
          "name": "stdout",
          "text": [
            "테스트 세트 정확도:0.86\n"
          ]
        }
      ]
    },
    {
      "cell_type": "markdown",
      "source": [
        "KNeighborsClassifier 분석\n",
        "\n",
        "         - 2차원 데이터셋이므로 가능한 모든 테스트 포인트의 예측을 xy 평면에 그려볼 수 있음\n",
        "         - 각 데이터 포인트가 속한 클래스에 따라 평면에 색을 칠함\n",
        "         - 알고리즘이 클래스 0과 1로 지정한 영역으로 나뉘는 \"결정 경계\"를 볼 수 있음\n",
        "         - 다음 코드는 이웃이 하나, 셋, 아홉 개일 때의 결정 경계를 보여줌"
      ],
      "metadata": {
        "id": "jEq1YjxrGVLi"
      }
    },
    {
      "cell_type": "code",
      "source": [
        "fig, axes = plt.subplots(1,3,figsize=(10,3))\n",
        "\n",
        "for n_neighbors, ax in zip([1,3,9],axes):\n",
        "\n",
        "    # fit 메서드는 self 객체를 반환한다.\n",
        "    # 객체 생성과 fit 메서드를 한줄에 쓸 수 있따.\n",
        "\n",
        "    clf=KNeighborsClassifier(n_neighbors=n_neighbors).fit(X, y)\n",
        "    mglearn.plots.plot_2d_separator(clf,X,fill=True, eps=0.5,ax=ax,alpha=.4)\n",
        "    mglearn.discrete_scatter(X[:,0],X[:,1],y,ax=ax)\n",
        "    ax.set_title(\"{} nbd\".format(n_neighbors))\n",
        "    ax.set_xlabel(\"class 0\")\n",
        "    ax.set_ylabel(\"class 1\")\n",
        "\n",
        "axes[0].legend(loc=3)"
      ],
      "metadata": {
        "id": "brI8bglBOfRp",
        "colab": {
          "base_uri": "https://localhost:8080/",
          "height": 242
        },
        "outputId": "b4659285-bd20-4f92-84ec-eb8feff9f75a"
      },
      "execution_count": 117,
      "outputs": [
        {
          "output_type": "execute_result",
          "data": {
            "text/plain": [
              "<matplotlib.legend.Legend at 0x7efda8f87c10>"
            ]
          },
          "metadata": {},
          "execution_count": 117
        },
        {
          "output_type": "display_data",
          "data": {
            "text/plain": [
              "<Figure size 720x216 with 3 Axes>"
            ],
            "image/png": "[encoded data removed]"
          },
          "metadata": {}
        }
      ]
    },
    {
      "cell_type": "markdown",
      "source": [
        "- 이웃을 하나 선택했을 때는 결정 경계가 훈련 데이터에 가깝게 따라가고 있음\n",
        "- 이웃의 수를 늘릴수록 결정 경계는 더 부드러워짐\n",
        "- 부드러운 경계=> 더 단순한 모델\n",
        "- 이웃을 많이 사용할 수록 모델의 복잡도가 높아짐\n",
        "\n",
        "- 모델의 복잡도와 일반화 사이의 관계 알아보기\n",
        "- 유방암 데이터셋 사용"
      ],
      "metadata": {
        "id": "50Y1RbkeVYW8"
      }
    },
    {
      "cell_type": "code",
      "source": [
        "from sklearn.datasets import load_breast_cancer\n",
        "\n",
        "cancer = load_breast_cancer()\n",
        "X_train, X_test, y_train, y_test = train_test_split(\n",
        "    cancer.data, cancer.target, stratify=cancer.target, random_state=66 )      ## X,y,stratify=y, random_state\n",
        "\n",
        "\n",
        "training_accuracy =[]\n",
        "test_accuracy=[]\n",
        "# 1에서 10까지 n_neighbors를 적용\n",
        "neighbors_settings=range(1,11)\n",
        "\n",
        "for n_neighbors in neighbors_settings :\n",
        "  # 모델 생성\n",
        "  clf = KNeighborsClassifier(n_neighbors=n_neighbors)\n",
        "  clf.fit(X_train, y_train)\n",
        "  # 훈련 세트 정확도 저장\n",
        "  training_accuracy.append(clf.score(X_train, y_train))\n",
        "  # 일반화 정확도 저장\n",
        "  test_accuracy.append(clf.score(X_test, y_test))\n",
        "\n",
        "plt.plot(neighbors_settings, training_accuracy, label=\"train accuracy\")\n",
        "plt.plot(neighbors_settings, test_accuracy, label=\"test accuracy\") \n",
        "plt.ylabel(\"accuracy\")\n",
        "plt.xlabel(\"n_neighbors\")\n",
        "plt.legend()\n",
        "\n"
      ],
      "metadata": {
        "colab": {
          "base_uri": "https://localhost:8080/",
          "height": 298
        },
        "id": "Hun4rXuTNsGM",
        "outputId": "4b0a17ba-c7fc-436a-fa26-ee7cc73b588e"
      },
      "execution_count": 118,
      "outputs": [
        {
          "output_type": "execute_result",
          "data": {
            "text/plain": [
              "<matplotlib.legend.Legend at 0x7efda91bc850>"
            ]
          },
          "metadata": {},
          "execution_count": 118
        },
        {
          "output_type": "display_data",
          "data": {
            "text/plain": [
              "<Figure size 432x288 with 1 Axes>"
            ],
            "image/png": "[encoded data removed]"
          },
          "metadata": {
            "needs_background": "light"
          }
        }
      ]
    },
    {
      "cell_type": "markdown",
      "source": [
        "- 위 그래프는 n_neighbors 변화에 따른 훈련 정확도와 테스트 정확도\n",
        "- 과대적합과 과소적합의 특징을 확인 가능\n",
        "- 이웃의 수가 적을수록 모델이 복잡해지므로 그래프가 수평으로 뒤집힌 형태\n",
        "- 최근접 이웃의 수가 하나일 때는 훈련 데이터에 대한 예측이 완벽 & 테스트 정확도 낮음\n",
        "- 이웃의 수가 늘어나면 모델은 단순해지고 훈련 데이터의 정확도는 줄어듦 -> 이웃의 수 적은 모델은 너무 복잡함 & 정확도 낮음\n",
        "- 이웃의 수가 10개일 때는 모델이 너무 단순하여 정확도 더 나빠짐\n",
        "- 정확도가 가장 좋을 때는 중간 정도인 6개를 사용하였을 때\n"
      ],
      "metadata": {
        "id": "Y775XQb0cOrL"
      }
    },
    {
      "cell_type": "markdown",
      "source": [
        "## k-최근접 이웃 회귀\n",
        "- 회귀 분석에도 쓰임\n",
        "- wave 데이터셋을 이용해서 이웃이 하나인 최근접 이웃 시도\n",
        "- x축에 세개의 테스트 데이터를 흐린 별 모양으로 표시"
      ],
      "metadata": {
        "id": "0weRdnb6dDyt"
      }
    },
    {
      "cell_type": "code",
      "source": [
        "mglearn.plots.plot_knn_regression(n_neighbors=1)"
      ],
      "metadata": {
        "id": "DXUGLfiHOhlJ",
        "colab": {
          "base_uri": "https://localhost:8080/",
          "height": 414
        },
        "outputId": "d5442958-5309-49ce-fd78-197e40e7bd8f"
      },
      "execution_count": 119,
      "outputs": [
        {
          "output_type": "display_data",
          "data": {
            "text/plain": [
              "<Figure size 720x432 with 1 Axes>"
            ],
            "image/png": "[encoded data removed]"
          },
          "metadata": {
            "needs_background": "light"
          }
        }
      ]
    },
    {
      "cell_type": "code",
      "source": [
        "# 여러 개의 최근접 이웃을 사용할 땐 이웃 간의 평균이 예측이 됨\n",
        "\n",
        "mglearn.plots.plot_knn_regression(n_neighbors=3)"
      ],
      "metadata": {
        "id": "dUs8xR08QQ1H",
        "colab": {
          "base_uri": "https://localhost:8080/",
          "height": 414
        },
        "outputId": "2f1c6933-5f8e-4890-a6c2-1fc6fb04f337"
      },
      "execution_count": 120,
      "outputs": [
        {
          "output_type": "display_data",
          "data": {
            "text/plain": [
              "<Figure size 720x432 with 1 Axes>"
            ],
            "image/png": "[encoded data removed]"
          },
          "metadata": {
            "needs_background": "light"
          }
        }
      ]
    },
    {
      "cell_type": "code",
      "source": [
        "# scikit-learn에서 회귀를 위한 k-최근접 이웃 알고리즘은 KNeighborsRegressor에 구현되어 있음\n",
        "\n",
        "from sklearn.neighbors import KNeighborsRegressor\n",
        "X, y=mglearn.datasets.make_wave(n_samples=40)"
      ],
      "metadata": {
        "id": "2roXMQcFi8og"
      },
      "execution_count": 121,
      "outputs": []
    },
    {
      "cell_type": "code",
      "source": [
        "# wave 데이터셋을 훈련 세트와 테스트 세트로 나눔\n",
        "X_train, X_test, y_train, y_test = train_test_split(X,y,random_state=0)\n",
        "\n",
        "# 이웃의 수를 3으로 하여 모델의 객체를 만듦\n",
        "reg=KNeighborsRegressor(n_neighbors=3)\n",
        "# 훈련 데이터와 타깃을 사용하여 모델을 학습시킴\n",
        "reg.fit(X_train, y_train)\n",
        "\n"
      ],
      "metadata": {
        "id": "R2b9Cvp4Ohnp",
        "colab": {
          "base_uri": "https://localhost:8080/"
        },
        "outputId": "b9736ef7-9ccf-494b-d797-52d4c12d63a3"
      },
      "execution_count": 122,
      "outputs": [
        {
          "output_type": "execute_result",
          "data": {
            "text/plain": [
              "KNeighborsRegressor(n_neighbors=3)"
            ]
          },
          "metadata": {},
          "execution_count": 122
        }
      ]
    },
    {
      "cell_type": "code",
      "source": [
        "print(\"테스트 세트 예측:\\n\", reg.predict(X_test))"
      ],
      "metadata": {
        "id": "cnpmQ07TOhp7",
        "colab": {
          "base_uri": "https://localhost:8080/"
        },
        "outputId": "ac7b0351-5427-49e8-dd73-1a92aa266081"
      },
      "execution_count": 124,
      "outputs": [
        {
          "output_type": "stream",
          "name": "stdout",
          "text": [
            "테스트 세트 예측:\n",
            " [-0.05396539  0.35686046  1.13671923 -1.89415682 -1.13881398 -1.63113382\n",
            "  0.35686046  0.91241374 -0.44680446 -1.13881398]\n"
          ]
        }
      ]
    },
    {
      "cell_type": "code",
      "source": [
        "# score 메서드를 이용해 모델을 평가할 것\n",
        "# 회귀일 땐 score 메서드는 R^2 (결정계수, 보통 0과 1사이의 값)값을 반환함\n",
        "# 1은 예측이 완벽한 경우, 0은 훈련 세트의 출력값인 y_train의 평균으로만 예측하는 모델의 경우\n",
        "# R^2가 음수인 경우 = 예측과 타깃이 상반된 경향을 가지는 경우\n",
        "\n",
        "print(\"테스트 세트 : R^2 : {:.2f}\".format(reg.score(X_test, y_test)))"
      ],
      "metadata": {
        "id": "GHnGDxgQOhsm",
        "colab": {
          "base_uri": "https://localhost:8080/"
        },
        "outputId": "62ef465f-ca44-40bf-ca09-b8ad430cf9ad"
      },
      "execution_count": 125,
      "outputs": [
        {
          "output_type": "stream",
          "name": "stdout",
          "text": [
            "테스트 세트 : R^2 : 0.83\n"
          ]
        }
      ]
    },
    {
      "cell_type": "markdown",
      "source": [
        "## KNeighborsRegressor 분석\n",
        "- 1차원 데이터셋에 대해 가능한 모든 특성 값을 만들어 예측해 볼 수 있음\n",
        "- 이를 위해 x축을 따라 많은 포인트를 생성해 테스트 데이터셋을 만듦"
      ],
      "metadata": {
        "id": "ROAbth9U1rSA"
      }
    },
    {
      "cell_type": "code",
      "source": [
        "fig, axes=plt.subplots(1,3,figsize=(15,4))\n",
        "\n",
        "# -3 과 3 사이에 1,000개의 데이터 포인트를 만듦\n",
        "\n",
        "line=np.linspace(-3,3,1000).reshape(-1,1)\n",
        "\n",
        "\n",
        "for n_neighbors, ax in zip([1,3,9], axes):\n",
        "  # 1,3,9 개의 이웃을 사용한 예측을 함\n",
        "  reg=KNeighborsRegressor(n_neighbors=n_neighbors)\n",
        "  reg.fit(X_train, y_train)\n",
        "  ax.plot(line, reg.predict(line))\n",
        "  ax.plot(X_train, y_train, \"^\", c=mglearn.cm2(0), markersize=8)\n",
        "  ax.plot(X_test, y_test, \"v\", c=mglearn.cm2(1), markersize=8)\n",
        "\n",
        "  ax.set_title( \n",
        "      \"train score of nbd {} : {:.2f} test score : {:.2f}\".format(\n",
        "          n_neighbors, reg.score(X_train, y_train),\n",
        "           reg.score(X_test, y_test)))\n",
        "  ax.set_xlabel(\"habitat\")\n",
        "  ax.set_ylabel(\"target\")\n",
        "\n",
        "axes[0].legend([\"model prediction\", \"train data/target\", \"test data/target\"], loc=\"best\")  \n",
        "  "
      ],
      "metadata": {
        "colab": {
          "base_uri": "https://localhost:8080/",
          "height": 313
        },
        "id": "pyuXD5eY12KB",
        "outputId": "f34cdefb-5871-428d-a4a5-4d8296884d25"
      },
      "execution_count": 131,
      "outputs": [
        {
          "output_type": "execute_result",
          "data": {
            "text/plain": [
              "<matplotlib.legend.Legend at 0x7efda94a4a50>"
            ]
          },
          "metadata": {},
          "execution_count": 131
        },
        {
          "output_type": "display_data",
          "data": {
            "text/plain": [
              "<Figure size 1080x288 with 3 Axes>"
            ],
            "image/png": "[encoded data removed]"
          },
          "metadata": {
            "needs_background": "light"
          }
        }
      ]
    },
    {
      "cell_type": "markdown",
      "source": [
        "- 위 그림에서 볼 수 있듯이 이웃을 하나만 사용하면 훈련 세트의 각 데이터 포인트가 예측에 주는 영향이 커서 예측값이 훈련 데이터 포인트를 모두 지남\n",
        "- 매우 불안정한 예측-> 이웃을 더 사용하면 안정된 예측 나옴\n",
        "\n",
        "\n",
        "\n",
        "## 장단점과 매개변수\n",
        "\n",
        "      - KNeighbors 분류기에 중요한 매개변수 : 데이터 포인트 사이의 거리, 이웃의 수\n",
        "      - 보통 이웃의 수는 3~5개로 하지만, 적절한 조정 필요\n",
        "      - 거리 재는 방법은 보통 유클리디안 거리 방식 사용\n",
        "      - k-NN은 이해하기 쉬운 모델이라는 장점\n",
        "      - 매우 빠르게 만들 수 있으나 특성이나 샘플의 수가 크면 예측이 느려짐\n",
        "      - 전처리가 매우 중요한 알고리즘\n",
        "      - 특성 값 대부분이 0인 데이터셋과는 잘 작동하지 않음\n",
        "      - biggest shortcoming : 예측이 느리고 특성이 많을 시 처리 능력 부족함\n"
      ],
      "metadata": {
        "id": "RQ75lEJ2G4AT"
      }
    },
    {
      "cell_type": "markdown",
      "source": [
        "## 2.3.3 선형 모델\n",
        "\n",
        "- 입력 특성에 대한 선형 함수를 만들어 예측 수행\n",
        "\n",
        "### 회귀의 선형 모델\n",
        "     일반화된 예측 함수  ^y=w[0] X x[0] + w[1] X x[1] +...+ w[p] X x[p] + b\n",
        "     이 식에서 x[0]부터 x[p]까지는 하나의 데이터 포인트에 대한 특성을 나타냄(특성의 개수는 p+1)\n",
        "     w와 b는 모델이 학습할 파라미터\n",
        "     ^y는 모델이 만들어낸 예측값\n",
        "     특성이 많아지면 w는 각 특성에 해당하는 기울기를 각각 가짐\n",
        "     예측값은 입력 특성에 w의 각 가중치를 곱해서 더한 가중치 합\n",
        "     \n"
      ],
      "metadata": {
        "id": "GvWmJtd5H7oK"
      }
    },
    {
      "cell_type": "code",
      "source": [
        "# 1차원 wave 데이터셋으로 파라미터 w[0]와 b를 직선처럼 되도록 학습시켜 볼 것\n",
        "\n",
        "mglearn.plots.plot_linear_regression_wave()"
      ],
      "metadata": {
        "colab": {
          "base_uri": "https://localhost:8080/",
          "height": 465
        },
        "id": "2aXzD_orFOC8",
        "outputId": "4b484eef-420f-4624-b9d4-06f31a9457c6"
      },
      "execution_count": 132,
      "outputs": [
        {
          "output_type": "stream",
          "name": "stdout",
          "text": [
            "w[0]: 0.393906  b: -0.031804\n"
          ]
        },
        {
          "output_type": "display_data",
          "data": {
            "text/plain": [
              "<Figure size 576x576 with 1 Axes>"
            ],
            "image/png": "[encoded data removed]"
          },
          "metadata": {
            "needs_background": "light"
          }
        }
      ]
    },
    {
      "cell_type": "markdown",
      "source": [
        "    - 직선을 사용한 예측은 제약이 많음\n",
        "    - 데이터의 상세 정보를 잃음\n",
        "    - 타깃 y가 특성들의 선형 조합이라는 가정은 과함\n",
        "    - 특성이 많은 데이터셋이라면 선형 모델은 매우 훌륭한 성능을 가짐\n",
        "    - 훈련 데이터보다 특성이 더 많은 경우엔(무수히 많은 해를 가지는 선형 방정식) 어떤 타깃 y도 훈련 세트에 대해서 선형 함수로 모델링할 수 있음\n",
        "    \n",
        "    - 회귀를 위한 선형 모델들은 훈련 데이터로부터 모델 파라미터 w와 b를 학습하는 방법과, 모델의 복잡도를 제어하는 방법에서 차이가 남\n",
        "\n",
        "\n",
        "## ▶ 회귀에서 가장 인기 있는 선형 모델들을 살펴보기\n",
        "\n",
        "\n",
        "## 선형 회귀(최소제곱법/ols)\n",
        "\n",
        "- 선형 회귀는 예측과 훈련 세트에 있는 타깃 y 사이의 평균제곱오차mse를 최소화하는 w와 b를 찾음\n",
        "- mse는 예측값과 타깃 값의 차이를 제곱하여 더한 후에 샘플의 개수로 나눈 것\n",
        "- 선형 회귀는 매개변수가 없음<->모델의 복잡도를 제어할 방법이 없음"
      ],
      "metadata": {
        "id": "gu37TkW2JWIa"
      }
    },
    {
      "cell_type": "code",
      "source": [
        "from sklearn.linear_model import LinearRegression\n",
        "X, y=mglearn.datasets.make_wave(n_samples=60)\n",
        "X_train, X_test, y_train, y_test = train_test_split(X,y,random_state=42)\n",
        "\n",
        "lr=LinearRegression().fit(X_train, y_train)"
      ],
      "metadata": {
        "id": "RHJJz1IXKgMY"
      },
      "execution_count": 134,
      "outputs": []
    },
    {
      "cell_type": "code",
      "source": [
        "# 기울기 파라미터 w 는 가중치 또는 계수라고 하며 lr 객체의 coef_ 속성에 저장되어 있고\n",
        "# 편향또는 절편 파라미터 b는 intercept_ 속성에 저장되어 있음\n",
        "\n",
        "print(\"lr.coef_:\", lr.coef_)                   # coef_뒤의 밑줄 :  scikit-learn은 훈련 데이터에서 유도된 속성은 끝에 밑줄 붙임, 지정 매개변수와 구분하기 위함\n",
        "print(\"lr.intercept_:\", lr.intercept_)"
      ],
      "metadata": {
        "colab": {
          "base_uri": "https://localhost:8080/"
        },
        "id": "NtzsfUZcK8r_",
        "outputId": "64f18769-f2a4-4746-d8ca-98a95fd1aa55"
      },
      "execution_count": 136,
      "outputs": [
        {
          "output_type": "stream",
          "name": "stdout",
          "text": [
            "lr.coef_: [0.39390555]\n",
            "lr.intercept_: -0.031804343026759746\n"
          ]
        }
      ]
    },
    {
      "cell_type": "code",
      "source": [
        "# intercept_속성은 항상 실수 값 하나이지만, coef_속성은 각 입력 특성에 하나씩 대응되는 numpy array \n",
        "# wave 데이터셋에는 입력 특성이 하나뿐임 -> lr.coef_도 원소 하나\n",
        "\n",
        "# 훈련 세트와 테스트 세트의 성능을 확인\n",
        "\n",
        "print(\"훈련 세트 점수 : {:.2f}\".format(lr.score(X_train, y_train)))\n",
        "print(\"테스트 세트 점수 : {:.2f}\".format(lr.score(X_test, y_test)))"
      ],
      "metadata": {
        "colab": {
          "base_uri": "https://localhost:8080/"
        },
        "id": "79O-5jLILnn6",
        "outputId": "8188e48f-d771-41df-f5a1-9ab0348d0f36"
      },
      "execution_count": 137,
      "outputs": [
        {
          "output_type": "stream",
          "name": "stdout",
          "text": [
            "훈련 세트 점수 : 0.67\n",
            "테스트 세트 점수 : 0.66\n"
          ]
        }
      ]
    },
    {
      "cell_type": "markdown",
      "source": [
        "      - R^2의 값이 0.66인 것은 좋은 결과가 아님\n",
        "      - 그러나 훈련 세트와 테스트 세트의 점수가 매우 비슷\n",
        "      - 이는 과대적합이 아닌 과소적합인 상태를 의미\n",
        "      - 1차원 데이터셋에서는 모델이 단순하므로 과대적합을 걱정할 필요가 없음\n",
        "      - 고차원 데이터셋(특성이 많은)에서는 선형 모델의 성능이 매우 높아져 과대적합될 가능성이 높음"
      ],
      "metadata": {
        "id": "0IG7L1UXMXto"
      }
    },
    {
      "cell_type": "code",
      "source": [
        "# 복잡한 데이터셋에서 선형 모델 시험\n",
        "data_url = \"http://lib.stat.cmu.edu/datasets/boston\"\n",
        "raw_df = pd.read_csv(data_url, sep=\"\\s+\", skiprows=22, header=None)\n",
        "data = np.hstack([raw_df.values[::2, :], raw_df.values[1::2, :2]])\n",
        "target = raw_df.values[1::2, 2]\n",
        "X, y= data, target\n",
        "\n",
        "\n",
        "X_train, X_test, y_train, y_test = train_test_split(X, y, random_state=0)\n",
        "lr=LinearRegression().fit(X_train, y_train)"
      ],
      "metadata": {
        "id": "RHsN6lt7ME6Q"
      },
      "execution_count": 174,
      "outputs": []
    },
    {
      "cell_type": "code",
      "source": [
        "raw_df.info()"
      ],
      "metadata": {
        "colab": {
          "base_uri": "https://localhost:8080/"
        },
        "id": "ziD0PwElsULf",
        "outputId": "508578eb-251a-48b8-8f19-31932fdd3ca6"
      },
      "execution_count": 208,
      "outputs": [
        {
          "output_type": "stream",
          "name": "stdout",
          "text": [
            "<class 'pandas.core.frame.DataFrame'>\n",
            "RangeIndex: 1012 entries, 0 to 1011\n",
            "Data columns (total 11 columns):\n",
            " #   Column  Non-Null Count  Dtype  \n",
            "---  ------  --------------  -----  \n",
            " 0   0       1012 non-null   float64\n",
            " 1   1       1012 non-null   float64\n",
            " 2   2       1012 non-null   float64\n",
            " 3   3       506 non-null    float64\n",
            " 4   4       506 non-null    float64\n",
            " 5   5       506 non-null    float64\n",
            " 6   6       506 non-null    float64\n",
            " 7   7       506 non-null    float64\n",
            " 8   8       506 non-null    float64\n",
            " 9   9       506 non-null    float64\n",
            " 10  10      506 non-null    float64\n",
            "dtypes: float64(11)\n",
            "memory usage: 87.1 KB\n"
          ]
        }
      ]
    },
    {
      "cell_type": "code",
      "source": [
        "# 훈련 세트와 테스트 세트의 점수를 비교하면, 훈련 세트에서는 예측 꽤 정확, 테스트 세트에서는 R^2값이 매우 낮음\n",
        "# extended boston 데이터 못 써서 그럼\n",
        "\n",
        "print(\"훈련 세트 점수: {:.2f}\".format(lr.score(X_train, y_train)))\n",
        "print(\"테스트 세트 점수: {:.2f}\".format(lr.score(X_test, y_test)))"
      ],
      "metadata": {
        "colab": {
          "base_uri": "https://localhost:8080/"
        },
        "id": "Ta8JEcpCNliK",
        "outputId": "f51269a2-1199-40c0-ad19-a82f4beff36c"
      },
      "execution_count": 175,
      "outputs": [
        {
          "output_type": "stream",
          "name": "stdout",
          "text": [
            "훈련 세트 점수: 0.77\n",
            "테스트 세트 점수: 0.64\n"
          ]
        }
      ]
    },
    {
      "cell_type": "markdown",
      "source": [
        "## 리지 회귀\n",
        "\n",
        "- 가중치 w 선택은 훈련 데이터를 잘 예측하기 위해서 뿐만 아니라 **추가 제약 조건**을 만족시키기 위한 목적도 있음\n",
        "-  추가 제약 조건 : 가중치의 절댓값을 가능한 작게 만듦 -> w의 모든 원소가 0에 가깝게 되길 바람\n",
        "- 모든 특성이 출력에 주는 영향을 최소한으로 함(기울기를 작게 만듦)=> 규제\n",
        "- **규제** : 과대적합이 되지 않도록 모델을 강제로 제한\n",
        "- 리지 회귀에서 사용하는 규제 방식을 **L2 규제**라고 함"
      ],
      "metadata": {
        "id": "in_SRJdcY4IH"
      }
    },
    {
      "cell_type": "code",
      "source": [
        "from sklearn.linear_model import Ridge\n",
        "\n",
        "ridge=Ridge().fit(X_train, y_train)\n",
        "print(\"훈련 세트 점수: {:.2f}\".format(ridge.score(X_train, y_train)))\n",
        "print(\"테스트 세트 점수: {:.2f}\".format(ridge.score(X_test, y_test)))"
      ],
      "metadata": {
        "colab": {
          "base_uri": "https://localhost:8080/"
        },
        "id": "gXEnHtlXYfXA",
        "outputId": "54d6d806-6d09-45b8-eb87-b894016aaa54"
      },
      "execution_count": 177,
      "outputs": [
        {
          "output_type": "stream",
          "name": "stdout",
          "text": [
            "훈련 세트 점수: 0.77\n",
            "테스트 세트 점수: 0.63\n"
          ]
        }
      ]
    },
    {
      "cell_type": "markdown",
      "source": [
        "\n",
        "- 데이터셋이 달라서 책이랑 반대임 ㅜㅜ\n",
        "- 어쨌든 하고 싶은 말은\n",
        "- 릿지는 선형 회귀보다 덜 자유로운 모델이기 때문에 **과대적합 적어짐**\n",
        "- 모델의 **복잡도가 낮아지면** 훈련 세트에서의 성능은 나빠지지만 더 일반화된 모델이 됨=> 릿지모델이 좋다\n",
        "\n",
        "- 릿지는 **모델을 단순하게** (계수를 0에 가깝게)해주고 훈련 세트에 대한 성능 사이를 절충할 수 있는 방법을 제공\n",
        "- 사용자는 **alpha 매개변수**로 훈련 세트의 성능 대비 모델을 얼마나 **단순화**할지를 지정할 수 있음\n",
        "- 예제에서는 매개변수의 기본값인 alpha=0.1을 사용함\n",
        "- 이는 최적의 값은 아님, 최적의 alpha값은 사용하는 데이터셋에 달림\n",
        "- alpha값을 높이면 계수를 0에 더 가깝게 만들어 훈련 세트의 성능은 나빠지지만 일반화에는 도움이 됨"
      ],
      "metadata": {
        "id": "dDIE_FHLaqiv"
      }
    },
    {
      "cell_type": "code",
      "source": [
        "ridge10=Ridge(alpha=10).fit(X_train, y_train)\n",
        "print(\"훈련 세트 점수: {:.2f}\".format(ridge10.score(X_train, y_train)))\n",
        "print(\"테스트 세트 점수: {:.2f}\".format(ridge10.score(X_test, y_test)))\n",
        "\n",
        "## 아 자꾸 점수 내려간다.."
      ],
      "metadata": {
        "colab": {
          "base_uri": "https://localhost:8080/"
        },
        "id": "y0L_CsKKamYI",
        "outputId": "260bf20f-3792-4c4a-f63f-abff309b2b9c"
      },
      "execution_count": 178,
      "outputs": [
        {
          "output_type": "stream",
          "name": "stdout",
          "text": [
            "훈련 세트 점수: 0.76\n",
            "테스트 세트 점수: 0.61\n"
          ]
        }
      ]
    },
    {
      "cell_type": "markdown",
      "source": [
        "    alpha값을 줄이면 계수에 대한 제약(=규제=모델의 단순성)이 풀림(모델이 복잡해짐)\n",
        "    alpa값을 아주 작게 설정하면 계수를 거의 제한하지 않으므로 LinearRegression모델과 거의 같아짐"
      ],
      "metadata": {
        "id": "fjCFy2qseIEa"
      }
    },
    {
      "cell_type": "code",
      "source": [
        "ridge01=Ridge(alpha=0.1).fit(X_train, y_train)\n",
        "print(\"훈련 세트 점수: {:.2f}\".format(ridge01.score(X_train, y_train)))\n",
        "print(\"테스트 세트 점수: {:.2f}\".format(ridge01.score(X_test, y_test)))"
      ],
      "metadata": {
        "colab": {
          "base_uri": "https://localhost:8080/"
        },
        "id": "OtPyEqKRi6NZ",
        "outputId": "a4a91869-01b2-4a16-c0ce-a95300a2716a"
      },
      "execution_count": 195,
      "outputs": [
        {
          "output_type": "stream",
          "name": "stdout",
          "text": [
            "훈련 세트 점수: 0.77\n",
            "테스트 세트 점수: 0.63\n"
          ]
        }
      ]
    },
    {
      "cell_type": "code",
      "source": [
        "# alpha=0.1이 꽤 좋은 성능을 냄=> 규제 풀고 복잡도 허용하자 좋은 성능\n",
        "# 테스트 세트에 대한 성능이 높아질 때까지 alpha값 줄여나가면 됨\n",
        "# alpha와 모델 복잡도는 반비례(alpha가 10이면 단순성이 10만큼!!, )\n",
        "\n",
        "alpha_train_score = []\n",
        "\n",
        "alpha_test_score = []\n",
        "\n",
        "alpha_set = [0.1, 1 ,10]\n",
        "\n",
        "\n",
        "\n",
        "for i in alpha_set:\n",
        "\n",
        "    ridge=Ridge(alpha=i)\n",
        "\n",
        "    ridge.fit(X_train, y_train)\n",
        "\n",
        "\n",
        "\n",
        "    ridge_tr_score = round(ridge.score(X_train, y_train), 3)\n",
        "\n",
        "    ridge_te_score = round(ridge.score(X_test, y_test), 3)\n",
        "\n",
        "\n",
        "\n",
        "    alpha_train_score.append(ridge_tr_score)\n",
        "\n",
        "    alpha_test_score.append(ridge_te_score)\n",
        "\n",
        "\n",
        "\n",
        "print(alpha_set)\n",
        "print(alpha_train_score)\n",
        "print(alpha_test_score)\n"
      ],
      "metadata": {
        "colab": {
          "base_uri": "https://localhost:8080/"
        },
        "id": "Cz846tfVe1Hg",
        "outputId": "67c06c53-c24e-4155-e210-669bda503b8b"
      },
      "execution_count": 191,
      "outputs": [
        {
          "output_type": "stream",
          "name": "stdout",
          "text": [
            "[0.1, 1, 10]\n",
            "[0.77, 0.768, 0.762]\n",
            "[0.634, 0.627, 0.613]\n"
          ]
        }
      ]
    },
    {
      "cell_type": "code",
      "source": [
        "# alpha값에 따라 모델의 coef_속성이 달라짐\n",
        "# 높은 alpha 값은 제약이 더 많은 모델이므로 작은 alpha 값일 때보다 coef_의 절댓값 크기가 작을 것\n",
        "\n",
        "plt.plot(ridge10.coef_, \"^\", label=\"Ridge alpha = 10\")\n",
        "plt.plot(ridge.coef_, \"s\", label=\"Ridge alpha = 1\")\n",
        "plt.plot(ridge01.coef_, \"v\", label=\"Ridge alpha = 0.1\")\n",
        "\n",
        "plt.plot(lr.coef_, \"o\", label=\"Linear Regression\")\n",
        "plt.xlabel(\" coeff list \")\n",
        "plt.ylabel(\" coeff size \")\n",
        "xlims = plt.xlim()\n",
        "plt.hlines(0, xlims[0], xlims[1])\n",
        "plt.xlim(xlims)\n",
        "plt.ylim(-25, 25)\n",
        "plt.legend()"
      ],
      "metadata": {
        "colab": {
          "base_uri": "https://localhost:8080/",
          "height": 297
        },
        "id": "dHcaqIIXgmpi",
        "outputId": "5280c786-bdf4-4ba2-857e-cd82d049504e"
      },
      "execution_count": 200,
      "outputs": [
        {
          "output_type": "execute_result",
          "data": {
            "text/plain": [
              "<matplotlib.legend.Legend at 0x7efda2241f90>"
            ]
          },
          "metadata": {},
          "execution_count": 200
        },
        {
          "output_type": "display_data",
          "data": {
            "text/plain": [
              "<Figure size 432x288 with 1 Axes>"
            ],
            "image/png": "[encoded data removed]"
          },
          "metadata": {
            "needs_background": "light"
          }
        }
      ]
    },
    {
      "cell_type": "markdown",
      "source": [
        "    위 그림에서 x축은 coef_의 원소를 위치대로 나열 한 것\n",
        "    x=0은 첫 번째 특성에 연관된 계수, x=1은 두 번째 특성에 연관된 계수ㅜ\n",
        "    y축은 각 계수의 수치\n",
        "    alpha가 10일 때 계수들은 대부분 (-3,3)에 속함\n",
        "    alpha가 작아질 수록 계수는 커지며 그림 밖으로 나감"
      ],
      "metadata": {
        "id": "rABkdB-YmdeR"
      }
    },
    {
      "cell_type": "code",
      "source": [
        "# 규제의 효과를 이해하는 또 다른 방법은 alpha 값을 고정하고 훈련 데이터의 크기를 변화시켜 보는 것\n",
        "\n",
        "# 다음은 보스턴 주택가격 데이터셋에서 여러 가지 크기로 샘플링하여 LinearRegression과 Ridge(alpha=1)을 적용한 것\n",
        "# (데이터셋의 크기에 따른 모델의 성능 변화를 나타낸 그래프를 학습곡선이라고 함 \"learning curve\" )\n",
        "\n",
        "mglearn.plots.plot_ridge_n_samples()"
      ],
      "metadata": {
        "colab": {
          "base_uri": "https://localhost:8080/",
          "height": 1000
        },
        "id": "T1RnsjI5mLWu",
        "outputId": "9aa9f898-13fa-4631-9f7e-9318b9976b49"
      },
      "execution_count": 203,
      "outputs": [
        {
          "output_type": "stream",
          "name": "stderr",
          "text": [
            "/usr/local/lib/python3.7/dist-packages/sklearn/utils/deprecation.py:87: FutureWarning: Function load_boston is deprecated; `load_boston` is deprecated in 1.0 and will be removed in 1.2.\n",
            "\n",
            "    The Boston housing prices dataset has an ethical problem. You can refer to\n",
            "    the documentation of this function for further details.\n",
            "\n",
            "    The scikit-learn maintainers therefore strongly discourage the use of this\n",
            "    dataset unless the purpose of the code is to study and educate about\n",
            "    ethical issues in data science and machine learning.\n",
            "\n",
            "    In this special case, you can fetch the dataset from the original\n",
            "    source::\n",
            "\n",
            "        import pandas as pd\n",
            "        import numpy as np\n",
            "\n",
            "\n",
            "        data_url = \"http://lib.stat.cmu.edu/datasets/boston\"\n",
            "        raw_df = pd.read_csv(data_url, sep=\"\\s+\", skiprows=22, header=None)\n",
            "        data = np.hstack([raw_df.values[::2, :], raw_df.values[1::2, :2]])\n",
            "        target = raw_df.values[1::2, 2]\n",
            "\n",
            "    Alternative datasets include the California housing dataset (i.e.\n",
            "    :func:`~sklearn.datasets.fetch_california_housing`) and the Ames housing\n",
            "    dataset. You can load the datasets as follows::\n",
            "\n",
            "        from sklearn.datasets import fetch_california_housing\n",
            "        housing = fetch_california_housing()\n",
            "\n",
            "    for the California housing dataset and::\n",
            "\n",
            "        from sklearn.datasets import fetch_openml\n",
            "        housing = fetch_openml(name=\"house_prices\", as_frame=True)\n",
            "\n",
            "    for the Ames housing dataset.\n",
            "    \n",
            "  warnings.warn(msg, category=FutureWarning)\n",
            "findfont: Font family ['Malgun Gothic'] not found. Falling back to DejaVu Sans.\n"
          ]
        },
        {
          "output_type": "display_data",
          "data": {
            "text/plain": [
              "<Figure size 432x288 with 1 Axes>"
            ],
            "image/png": "[encoded data removed]"
          },
          "metadata": {
            "needs_background": "light"
          }
        }
      ]
    },
    {
      "cell_type": "markdown",
      "source": [
        "- 예상대로 모든 데이터셋에 대해 릿지와 선형 회귀 모두 훈련 세트의 점수가 테스트 세트의 점수보다 높음\n",
        "- 릿지에는 규제가 적용되므로 릿지의 훈련 데이터 점수가 전체적으로 선형 회귀의 훈련 데이터 점수보다 낮음\n",
        "- 그러나 테스트 데이터에서는 릿지의 점수가 더 높고, \n",
        "- 특별히 작은 데이터셋에서는 더 그러함\n",
        "- 데이터셋 크기가 400 미만일 때 선형 회귀는 어떤 것도 학습하지 못하고 있음\n",
        "\n",
        "\n",
        "=> 데이터를 충분히 주면 규제 항은 덜 중요해져서 릿지 회귀와 선형 회귀의 성능이 같아질 것\n",
        "\n",
        "=> 선형 회귀의 훈련 데이터 성능이 감소하고 있음\n",
        "\n",
        "=> 데이터가 많아질수록 모델이 데이터를 기억하거나 과대적합하기 어려워지기 때문"
      ],
      "metadata": {
        "id": "8NGG8lS9oIxP"
      }
    },
    {
      "cell_type": "markdown",
      "source": [
        "## Lasso 라소\n",
        "\n",
        "- 선형 회귀에 규제를 적용하는 데 Ridge의 대안으로 Lasso 가 있음\n",
        "- 릿지와 마찬가지로 라소도 계수를 0에 가깝게 만들려고 함\n",
        "- 방식이 조금 다르기 때문에 L1 규제라고 함\n",
        "- L1 규제의 결과로 라소를 사용할 때 어떤 계수는 0이 되기도 함\n",
        "- 모델에서 아예 제외되는 특성이 생긴다는 뜻\n",
        "- **특성 선택**(feature selection)이 자동으로 이뤄짐"
      ],
      "metadata": {
        "id": "Lc_9-h4qqz4y"
      }
    },
    {
      "cell_type": "code",
      "source": [
        "from sklearn.linear_model import Lasso\n",
        "\n",
        "lasso=Lasso().fit(X_train, y_train)\n",
        "print(\" 훈련 세트 점수 : {:.2f}\".format(lasso.score(X_train, y_train)))\n",
        "print(\" 테스트 세트 점수 : {:.2f}\".format(lasso.score(X_test, y_test)))\n",
        "print(\" 사용한 특성의 개수 :\", np.sum(lasso.coef_ !=0) )"
      ],
      "metadata": {
        "colab": {
          "base_uri": "https://localhost:8080/"
        },
        "id": "r3UbtRlTqx1x",
        "outputId": "23d84fd3-7221-4cfe-cb74-dfbb41ff68a8"
      },
      "execution_count": 205,
      "outputs": [
        {
          "output_type": "stream",
          "name": "stdout",
          "text": [
            " 훈련 세트 점수 : 0.72\n",
            " 테스트 세트 점수 : 0.55\n",
            " 사용한 특성의 개수 : 11\n"
          ]
        }
      ]
    },
    {
      "cell_type": "code",
      "source": [
        "# 일단 결과 별로임\n",
        "# 릿지와 마찬가지로 라소도 계수를 얼마나 강하게 0으로 보낼지를 조절하는 alpha 매개변수를 지원\n",
        "# 지금은 기본값인 1 사용, 과소적합을 줄이기 위해 alpha값을 줄여볼 것임\n",
        "# 이렇게 하려면 max_iter(반복 시행하는 최대 횟수)의 기본값을 늘려야 함\n",
        "\n",
        "# max_iter 기본값을 증가시키지 않으면 max_iter 값을 늘리라는 경고가 발생함\n",
        "\n",
        "lasso001=Lasso(alpha=0.01, max_iter=50000).fit(X_train, y_train)\n",
        "print(\"훈련 세트 점수: {:.2f}\".format(lasso001.score(X_train, y_train)))\n",
        "print(\" 테스트 세트 점수 : {:.2f}\".format(lasso001.score(X_test, y_test)))\n",
        "print(\" 사용한 특성의 개수 :\", np.sum(lasso001.coef_ !=0) )"
      ],
      "metadata": {
        "colab": {
          "base_uri": "https://localhost:8080/"
        },
        "id": "KWlnhq49s9M3",
        "outputId": "ee5c1d3c-c060-481c-f07e-d84dd6ccb6ff"
      },
      "execution_count": 210,
      "outputs": [
        {
          "output_type": "stream",
          "name": "stdout",
          "text": [
            "훈련 세트 점수: 0.77\n",
            " 테스트 세트 점수 : 0.63\n",
            " 사용한 특성의 개수 : 13\n"
          ]
        }
      ]
    },
    {
      "cell_type": "code",
      "source": [
        "# alpha 값을 낮추면 모델의 복잡도는 증가하여 훈련 세트와 테슽 세트에서 성농 좋아짐\n",
        "# 릿지보다 낫긴 하지만 사용된 특성은 여전히 적음-> 모델 분석하기 더 쉬움\n",
        "# alpha 값을 너무 낮추면 규제의 효과가 없어져 과대적합이 되므로 LinearRegression의 결과와 비슷해짐\n",
        "\n",
        "lasso00001=Lasso(alpha=0.00001, max_iter=50000).fit(X_train, y_train)\n",
        "print(\"훈련 세트 점수: {:.2f}\".format(lasso00001.score(X_train, y_train)))\n",
        "print(\" 테스트 세트 점수 : {:.2f}\".format(lasso00001.score(X_test, y_test)))\n",
        "print(\" 사용한 특성의 개수 :\", np.sum(lasso00001.coef_ !=0) )"
      ],
      "metadata": {
        "colab": {
          "base_uri": "https://localhost:8080/"
        },
        "id": "YRwjbc9xviE4",
        "outputId": "0ea4a3bd-ee84-40bb-d26c-b88bd7a52c50"
      },
      "execution_count": 214,
      "outputs": [
        {
          "output_type": "stream",
          "name": "stdout",
          "text": [
            "훈련 세트 점수: 0.77\n",
            " 테스트 세트 점수 : 0.64\n",
            " 사용한 특성의 개수 : 13\n"
          ]
        }
      ]
    },
    {
      "cell_type": "code",
      "source": [
        "plt.plot(lasso.coef_, \"s\", label=\"Lasso alpha=1\")\n",
        "plt.plot(lasso001.coef_, \"^\", label=\"Lasso alpha=0.01\")\n",
        "plt.plot(lasso00001.coef_, \"v\", label=\"Lasso alpha=0.0001\")\n",
        "plt.plot(ridge01.coef_, \"o\", label=\"Ridge alpha=0.1\")\n",
        "plt.legend(ncol=2, loc=(0, 1.05))\n",
        "plt.ylim(-25, 25)\n",
        "plt.xlabel(\"coeff list\")\n",
        "plt.ylabel(\"coeff size\")"
      ],
      "metadata": {
        "colab": {
          "base_uri": "https://localhost:8080/",
          "height": 341
        },
        "id": "LIgiVAB7wRIR",
        "outputId": "936e524d-1e08-4ea0-fe60-4edf925372d2"
      },
      "execution_count": 216,
      "outputs": [
        {
          "output_type": "execute_result",
          "data": {
            "text/plain": [
              "Text(0, 0.5, 'coeff size')"
            ]
          },
          "metadata": {},
          "execution_count": 216
        },
        {
          "output_type": "display_data",
          "data": {
            "text/plain": [
              "<Figure size 432x288 with 1 Axes>"
            ],
            "image/png": "[encoded data removed]"
          },
          "metadata": {
            "needs_background": "light"
          }
        }
      ]
    },
    {
      "cell_type": "markdown",
      "source": [
        "alpha=1 일 때"
      ],
      "metadata": {
        "id": "zJXc12ROxeXO"
      }
    },
    {
      "cell_type": "code",
      "source": [
        "alpha=1 일 때(이미 알고 있듯)"
      ],
      "metadata": {
        "id": "HVGbLHY8xRS_"
      },
      "execution_count": null,
      "outputs": []
    }
  ]
}